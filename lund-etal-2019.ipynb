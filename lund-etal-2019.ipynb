{
 "cells": [
  {
   "cell_type": "markdown",
   "metadata": {},
   "source": [
    "# Lund et al. (2019): The pragmatics of semantic change: Modeling the progressive-to-imperfective shift\n",
    "\n",
    "This is a Python implementation of the imperfective shift model in Lund et al. (2019).\n",
    "\n",
    "The paper can be found here: https://gunnarnl.github.io/publications/2019-lundetal.pdf"
   ]
  },
  {
   "cell_type": "code",
   "execution_count": 350,
   "metadata": {},
   "outputs": [],
   "source": [
    "import numpy as np\n",
    "import pandas as pd"
   ]
  },
  {
   "cell_type": "markdown",
   "metadata": {},
   "source": [
    "# We need some helper functions to generate the world states"
   ]
  },
  {
   "cell_type": "code",
   "execution_count": 351,
   "metadata": {
    "scrolled": false
   },
   "outputs": [],
   "source": [
    "#powerset helper function\n",
    "def powerset(s):\n",
    "    if len(s)==0: #base case\n",
    "        return [[]]\n",
    "    else:\n",
    "        r = powerset(s[:-1])\n",
    "        element = [s[-1]]\n",
    "        new_r = r + list(map(lambda x: x+element, r))\n",
    "        return new_r"
   ]
  },
  {
   "cell_type": "code",
   "execution_count": 352,
   "metadata": {},
   "outputs": [],
   "source": [
    "def state_gen(number_bins):\n",
    "    states = []\n",
    "    bin_size = 1 / number_bins\n",
    "    eventPop = map(lambda x:round(((bin_size/2)+(bin_size*x))*100)/100, range(number_bins))\n",
    "    return list(eventPop)"
   ]
  },
  {
   "cell_type": "code",
   "execution_count": 353,
   "metadata": {},
   "outputs": [],
   "source": [
    "#generate state space\n",
    "all_states = state_gen(5)\n",
    "pset_states = list(filter(lambda x:len(x)>0, powerset(all_states)))"
   ]
  },
  {
   "cell_type": "code",
   "execution_count": 354,
   "metadata": {},
   "outputs": [],
   "source": [
    "def state_prior(states):\n",
    "    indices = [str(state) for state in states]\n",
    "    return pd.Series(np.ones(len(states))/len(states), index=indices)"
   ]
  },
  {
   "cell_type": "code",
   "execution_count": 355,
   "metadata": {},
   "outputs": [
    {
     "data": {
      "text/plain": [
       "[0.1]                        0.032258\n",
       "[0.3]                        0.032258\n",
       "[0.1, 0.3]                   0.032258\n",
       "[0.5]                        0.032258\n",
       "[0.1, 0.5]                   0.032258\n",
       "[0.3, 0.5]                   0.032258\n",
       "[0.1, 0.3, 0.5]              0.032258\n",
       "[0.7]                        0.032258\n",
       "[0.1, 0.7]                   0.032258\n",
       "[0.3, 0.7]                   0.032258\n",
       "[0.1, 0.3, 0.7]              0.032258\n",
       "[0.5, 0.7]                   0.032258\n",
       "[0.1, 0.5, 0.7]              0.032258\n",
       "[0.3, 0.5, 0.7]              0.032258\n",
       "[0.1, 0.3, 0.5, 0.7]         0.032258\n",
       "[0.9]                        0.032258\n",
       "[0.1, 0.9]                   0.032258\n",
       "[0.3, 0.9]                   0.032258\n",
       "[0.1, 0.3, 0.9]              0.032258\n",
       "[0.5, 0.9]                   0.032258\n",
       "[0.1, 0.5, 0.9]              0.032258\n",
       "[0.3, 0.5, 0.9]              0.032258\n",
       "[0.1, 0.3, 0.5, 0.9]         0.032258\n",
       "[0.7, 0.9]                   0.032258\n",
       "[0.1, 0.7, 0.9]              0.032258\n",
       "[0.3, 0.7, 0.9]              0.032258\n",
       "[0.1, 0.3, 0.7, 0.9]         0.032258\n",
       "[0.5, 0.7, 0.9]              0.032258\n",
       "[0.1, 0.5, 0.7, 0.9]         0.032258\n",
       "[0.3, 0.5, 0.7, 0.9]         0.032258\n",
       "[0.1, 0.3, 0.5, 0.7, 0.9]    0.032258\n",
       "dtype: float64"
      ]
     },
     "execution_count": 355,
     "metadata": {},
     "output_type": "execute_result"
    }
   ],
   "source": [
    "state_prior(pset_states)"
   ]
  },
  {
   "cell_type": "markdown",
   "metadata": {},
   "source": [
    "## Utterances and costs\n",
    "\n",
    "By changing the costs, we get different interpretations mirroring the shift we see historically.\n",
    "\n",
    "Note that the utterance prior defined here isn't used later on, but it does tell us how different utterance costs influence the utterance prior."
   ]
  },
  {
   "cell_type": "code",
   "execution_count": 356,
   "metadata": {},
   "outputs": [],
   "source": [
    "utterances = [\"prog\", \"impf\", \"null\"]\n",
    "costs = {\"prog\": 1,\n",
    "        \"impf\": 1,\n",
    "        \"null\": 100}"
   ]
  },
  {
   "cell_type": "code",
   "execution_count": 357,
   "metadata": {},
   "outputs": [],
   "source": [
    "# Not using in model itself\n",
    "def utterance_prior():\n",
    "    probs = list(map(lambda x:np.exp(-costs[x]), utterances))\n",
    "    return pd.Series(probs / np.sum(probs), index=utterances)"
   ]
  },
  {
   "cell_type": "code",
   "execution_count": 358,
   "metadata": {
    "scrolled": false
   },
   "outputs": [
    {
     "data": {
      "text/plain": [
       "prog    5.000000e-01\n",
       "impf    5.000000e-01\n",
       "null    5.056107e-44\n",
       "dtype: float64"
      ]
     },
     "execution_count": 358,
     "metadata": {},
     "output_type": "execute_result"
    }
   ],
   "source": [
    "utterance_prior()"
   ]
  },
  {
   "cell_type": "markdown",
   "metadata": {},
   "source": [
    "## Helper functions used with semantic interpretation\n",
    "\n",
    "The theta values are proxies for the intervals and super-intervals that Deo (2009; 2015) uses to define the progressive and imperfective."
   ]
  },
  {
   "cell_type": "code",
   "execution_count": 359,
   "metadata": {},
   "outputs": [],
   "source": [
    "possible_thetas = [0.4,0.5,0.6,0.7,0.8,0.9,1]"
   ]
  },
  {
   "cell_type": "code",
   "execution_count": 360,
   "metadata": {},
   "outputs": [],
   "source": [
    "alpha = 1"
   ]
  },
  {
   "cell_type": "code",
   "execution_count": 361,
   "metadata": {
    "scrolled": true
   },
   "outputs": [
    {
     "data": {
      "text/plain": [
       "(0.4, 0.4)    0.035714\n",
       "(0.4, 0.5)    0.035714\n",
       "(0.4, 0.6)    0.035714\n",
       "(0.4, 0.7)    0.035714\n",
       "(0.4, 0.8)    0.035714\n",
       "(0.4, 0.9)    0.035714\n",
       "(0.4, 1)      0.035714\n",
       "(0.5, 0.5)    0.035714\n",
       "(0.5, 0.6)    0.035714\n",
       "(0.5, 0.7)    0.035714\n",
       "(0.5, 0.8)    0.035714\n",
       "(0.5, 0.9)    0.035714\n",
       "(0.5, 1)      0.035714\n",
       "(0.6, 0.6)    0.035714\n",
       "(0.6, 0.7)    0.035714\n",
       "(0.6, 0.8)    0.035714\n",
       "(0.6, 0.9)    0.035714\n",
       "(0.6, 1)      0.035714\n",
       "(0.7, 0.7)    0.035714\n",
       "(0.7, 0.8)    0.035714\n",
       "(0.7, 0.9)    0.035714\n",
       "(0.7, 1)      0.035714\n",
       "(0.8, 0.8)    0.035714\n",
       "(0.8, 0.9)    0.035714\n",
       "(0.8, 1)      0.035714\n",
       "(0.9, 0.9)    0.035714\n",
       "(0.9, 1)      0.035714\n",
       "(1, 1)        0.035714\n",
       "dtype: float64"
      ]
     },
     "execution_count": 361,
     "metadata": {},
     "output_type": "execute_result"
    }
   ],
   "source": [
    "#Generate ordered pair <thetaR, thetaImpf> s.t. thetaImpf is greater than or equal to thetaR\n",
    "def theta_gen(thetas):\n",
    "    return [(a, b) for a in thetas for b in thetas if b>=a]\n",
    "\n",
    "theta_pairs = theta_gen(possible_thetas)\n",
    "\n",
    "def thetas_prior(thetas):\n",
    "    indices = [str(theta) for theta in thetas]\n",
    "    return pd.Series(np.ones(len(thetas))/len(thetas), index=indices)\n",
    "\n",
    "thetas_prior(theta_pairs)"
   ]
  },
  {
   "cell_type": "code",
   "execution_count": 362,
   "metadata": {},
   "outputs": [],
   "source": [
    "# Generates the bins from the different thetas\n",
    "# Effective: creates a partition with a certain number of cells given a theta\n",
    "def theta_bins(number_bins, theta):\n",
    "  new_bins = [0]\n",
    "  bin_size = theta / number_bins\n",
    "  bin_array = range(0, number_bins)\n",
    "  bin_pop = list(map(lambda x:bin_size + bin_size*x, bin_array))\n",
    "  return new_bins+bin_pop"
   ]
  },
  {
   "cell_type": "code",
   "execution_count": 363,
   "metadata": {},
   "outputs": [],
   "source": [
    "#working with 2 bins\n",
    "n_bins=2"
   ]
  },
  {
   "cell_type": "markdown",
   "metadata": {},
   "source": [
    "## Meaning function\n",
    "Returns true or false given an utterance, related partitions of time, and the state."
   ]
  },
  {
   "cell_type": "code",
   "execution_count": 364,
   "metadata": {},
   "outputs": [],
   "source": [
    "#meaning fxn: checks to make sure at least one event is contained in every bin.\n",
    "def meaning_function(state, bins, counter=0):\n",
    "    if counter==len(bins)-1:\n",
    "        return True\n",
    "    elif any(map(lambda x:x>bins[counter] and x<=bins[counter+1], state)):\n",
    "        return meaning_function(state, bins, counter+1)\n",
    "    else:\n",
    "        return False\n",
    "        "
   ]
  },
  {
   "cell_type": "code",
   "execution_count": 365,
   "metadata": {},
   "outputs": [],
   "source": [
    "def meaning(utterance, bins_r, bins_t, state):\n",
    "    if utterance == \"prog\":\n",
    "        return meaning_function(state, bins_r, 0)\n",
    "    elif utterance == \"impf\":\n",
    "        return meaning_function(state, bins_t, 0)\n",
    "    else:\n",
    "        return True"
   ]
  },
  {
   "cell_type": "markdown",
   "metadata": {},
   "source": [
    "## Literal listener\n",
    "Returns a probability distribution over world states for a given utterance and thetas."
   ]
  },
  {
   "cell_type": "code",
   "execution_count": 366,
   "metadata": {},
   "outputs": [],
   "source": [
    "# need to return distribution over world states\n",
    "def literal_listener(utterance, theta_r, theta_t):\n",
    "    pr_states = state_prior(pset_states)\n",
    "    bins_r = theta_bins(n_bins, theta_r)\n",
    "    bins_t = theta_bins(n_bins, theta_t)\n",
    "    truth_values = np.array(list(map(lambda x: meaning(utterance, bins_r, bins_t, x), pset_states)))\n",
    "    return truth_values * pr_states / pd.Series.sum(truth_values * pr_states)"
   ]
  },
  {
   "cell_type": "code",
   "execution_count": 367,
   "metadata": {},
   "outputs": [
    {
     "data": {
      "text/plain": [
       "[0.1]                        0.000\n",
       "[0.3]                        0.000\n",
       "[0.1, 0.3]                   0.125\n",
       "[0.5]                        0.000\n",
       "[0.1, 0.5]                   0.000\n",
       "[0.3, 0.5]                   0.000\n",
       "[0.1, 0.3, 0.5]              0.125\n",
       "[0.7]                        0.000\n",
       "[0.1, 0.7]                   0.000\n",
       "[0.3, 0.7]                   0.000\n",
       "[0.1, 0.3, 0.7]              0.125\n",
       "[0.5, 0.7]                   0.000\n",
       "[0.1, 0.5, 0.7]              0.000\n",
       "[0.3, 0.5, 0.7]              0.000\n",
       "[0.1, 0.3, 0.5, 0.7]         0.125\n",
       "[0.9]                        0.000\n",
       "[0.1, 0.9]                   0.000\n",
       "[0.3, 0.9]                   0.000\n",
       "[0.1, 0.3, 0.9]              0.125\n",
       "[0.5, 0.9]                   0.000\n",
       "[0.1, 0.5, 0.9]              0.000\n",
       "[0.3, 0.5, 0.9]              0.000\n",
       "[0.1, 0.3, 0.5, 0.9]         0.125\n",
       "[0.7, 0.9]                   0.000\n",
       "[0.1, 0.7, 0.9]              0.000\n",
       "[0.3, 0.7, 0.9]              0.000\n",
       "[0.1, 0.3, 0.7, 0.9]         0.125\n",
       "[0.5, 0.7, 0.9]              0.000\n",
       "[0.1, 0.5, 0.7, 0.9]         0.000\n",
       "[0.3, 0.5, 0.7, 0.9]         0.000\n",
       "[0.1, 0.3, 0.5, 0.7, 0.9]    0.125\n",
       "dtype: float64"
      ]
     },
     "execution_count": 367,
     "metadata": {},
     "output_type": "execute_result"
    }
   ],
   "source": [
    "literal_listener(\"prog\", 0.3, 0.7)"
   ]
  },
  {
   "cell_type": "markdown",
   "metadata": {},
   "source": [
    "## Pragmatic speaker\n",
    "\n",
    "Returns a distribution over utterances for a given object."
   ]
  },
  {
   "cell_type": "code",
   "execution_count": 368,
   "metadata": {},
   "outputs": [],
   "source": [
    "def utility(L1_probs):\n",
    "    return L1_probs.apply(lambda x:np.exp(alpha * (np.log(x) - costs[x.name])), axis=1)"
   ]
  },
  {
   "cell_type": "code",
   "execution_count": 369,
   "metadata": {},
   "outputs": [],
   "source": [
    "def speaker(theta_r, theta_t):\n",
    "    pr_utterances = utterance_prior()\n",
    "    L1 = pd.DataFrame(map(lambda x: literal_listener(x, theta_r, theta_t), utterances), index=utterances)\n",
    "    return utility(L1).apply(lambda x:x / np.sum(x))"
   ]
  },
  {
   "cell_type": "code",
   "execution_count": 370,
   "metadata": {
    "scrolled": true
   },
   "outputs": [
    {
     "name": "stderr",
     "output_type": "stream",
     "text": [
      "/home/gunnar/.local/lib/python3.6/site-packages/pandas/core/series.py:726: RuntimeWarning: divide by zero encountered in log\n",
      "  result = getattr(ufunc, method)(*inputs, **kwargs)\n"
     ]
    },
    {
     "data": {
      "text/html": [
       "<div>\n",
       "<style scoped>\n",
       "    .dataframe tbody tr th:only-of-type {\n",
       "        vertical-align: middle;\n",
       "    }\n",
       "\n",
       "    .dataframe tbody tr th {\n",
       "        vertical-align: top;\n",
       "    }\n",
       "\n",
       "    .dataframe thead th {\n",
       "        text-align: right;\n",
       "    }\n",
       "</style>\n",
       "<table border=\"1\" class=\"dataframe\">\n",
       "  <thead>\n",
       "    <tr style=\"text-align: right;\">\n",
       "      <th></th>\n",
       "      <th>[0.1]</th>\n",
       "      <th>[0.3]</th>\n",
       "      <th>[0.1, 0.3]</th>\n",
       "      <th>[0.5]</th>\n",
       "      <th>[0.1, 0.5]</th>\n",
       "      <th>[0.3, 0.5]</th>\n",
       "      <th>[0.1, 0.3, 0.5]</th>\n",
       "      <th>[0.7]</th>\n",
       "      <th>[0.1, 0.7]</th>\n",
       "      <th>[0.3, 0.7]</th>\n",
       "      <th>...</th>\n",
       "      <th>[0.3, 0.5, 0.9]</th>\n",
       "      <th>[0.1, 0.3, 0.5, 0.9]</th>\n",
       "      <th>[0.7, 0.9]</th>\n",
       "      <th>[0.1, 0.7, 0.9]</th>\n",
       "      <th>[0.3, 0.7, 0.9]</th>\n",
       "      <th>[0.1, 0.3, 0.7, 0.9]</th>\n",
       "      <th>[0.5, 0.7, 0.9]</th>\n",
       "      <th>[0.1, 0.5, 0.7, 0.9]</th>\n",
       "      <th>[0.3, 0.5, 0.7, 0.9]</th>\n",
       "      <th>[0.1, 0.3, 0.5, 0.7, 0.9]</th>\n",
       "    </tr>\n",
       "  </thead>\n",
       "  <tbody>\n",
       "    <tr>\n",
       "      <th>prog</th>\n",
       "      <td>0.0</td>\n",
       "      <td>0.0</td>\n",
       "      <td>1.000000e+00</td>\n",
       "      <td>0.0</td>\n",
       "      <td>0.000000e+00</td>\n",
       "      <td>0.000000e+00</td>\n",
       "      <td>6.000000e-01</td>\n",
       "      <td>0.0</td>\n",
       "      <td>0.0</td>\n",
       "      <td>0.0</td>\n",
       "      <td>...</td>\n",
       "      <td>0.000000e+00</td>\n",
       "      <td>6.000000e-01</td>\n",
       "      <td>0.0</td>\n",
       "      <td>0.0</td>\n",
       "      <td>0.0</td>\n",
       "      <td>1.000000e+00</td>\n",
       "      <td>0.0</td>\n",
       "      <td>0.000000e+00</td>\n",
       "      <td>0.000000e+00</td>\n",
       "      <td>6.000000e-01</td>\n",
       "    </tr>\n",
       "    <tr>\n",
       "      <th>impf</th>\n",
       "      <td>0.0</td>\n",
       "      <td>0.0</td>\n",
       "      <td>0.000000e+00</td>\n",
       "      <td>0.0</td>\n",
       "      <td>1.000000e+00</td>\n",
       "      <td>1.000000e+00</td>\n",
       "      <td>4.000000e-01</td>\n",
       "      <td>0.0</td>\n",
       "      <td>0.0</td>\n",
       "      <td>0.0</td>\n",
       "      <td>...</td>\n",
       "      <td>1.000000e+00</td>\n",
       "      <td>4.000000e-01</td>\n",
       "      <td>0.0</td>\n",
       "      <td>0.0</td>\n",
       "      <td>0.0</td>\n",
       "      <td>0.000000e+00</td>\n",
       "      <td>0.0</td>\n",
       "      <td>1.000000e+00</td>\n",
       "      <td>1.000000e+00</td>\n",
       "      <td>4.000000e-01</td>\n",
       "    </tr>\n",
       "    <tr>\n",
       "      <th>null</th>\n",
       "      <td>1.0</td>\n",
       "      <td>1.0</td>\n",
       "      <td>2.609604e-44</td>\n",
       "      <td>1.0</td>\n",
       "      <td>3.914406e-44</td>\n",
       "      <td>3.914406e-44</td>\n",
       "      <td>1.565762e-44</td>\n",
       "      <td>1.0</td>\n",
       "      <td>1.0</td>\n",
       "      <td>1.0</td>\n",
       "      <td>...</td>\n",
       "      <td>3.914406e-44</td>\n",
       "      <td>1.565762e-44</td>\n",
       "      <td>1.0</td>\n",
       "      <td>1.0</td>\n",
       "      <td>1.0</td>\n",
       "      <td>2.609604e-44</td>\n",
       "      <td>1.0</td>\n",
       "      <td>3.914406e-44</td>\n",
       "      <td>3.914406e-44</td>\n",
       "      <td>1.565762e-44</td>\n",
       "    </tr>\n",
       "  </tbody>\n",
       "</table>\n",
       "<p>3 rows × 31 columns</p>\n",
       "</div>"
      ],
      "text/plain": [
       "      [0.1]  [0.3]    [0.1, 0.3]  [0.5]    [0.1, 0.5]    [0.3, 0.5]  \\\n",
       "prog    0.0    0.0  1.000000e+00    0.0  0.000000e+00  0.000000e+00   \n",
       "impf    0.0    0.0  0.000000e+00    0.0  1.000000e+00  1.000000e+00   \n",
       "null    1.0    1.0  2.609604e-44    1.0  3.914406e-44  3.914406e-44   \n",
       "\n",
       "      [0.1, 0.3, 0.5]  [0.7]  [0.1, 0.7]  [0.3, 0.7]  ...  [0.3, 0.5, 0.9]  \\\n",
       "prog     6.000000e-01    0.0         0.0         0.0  ...     0.000000e+00   \n",
       "impf     4.000000e-01    0.0         0.0         0.0  ...     1.000000e+00   \n",
       "null     1.565762e-44    1.0         1.0         1.0  ...     3.914406e-44   \n",
       "\n",
       "      [0.1, 0.3, 0.5, 0.9]  [0.7, 0.9]  [0.1, 0.7, 0.9]  [0.3, 0.7, 0.9]  \\\n",
       "prog          6.000000e-01         0.0              0.0              0.0   \n",
       "impf          4.000000e-01         0.0              0.0              0.0   \n",
       "null          1.565762e-44         1.0              1.0              1.0   \n",
       "\n",
       "      [0.1, 0.3, 0.7, 0.9]  [0.5, 0.7, 0.9]  [0.1, 0.5, 0.7, 0.9]  \\\n",
       "prog          1.000000e+00              0.0          0.000000e+00   \n",
       "impf          0.000000e+00              0.0          1.000000e+00   \n",
       "null          2.609604e-44              1.0          3.914406e-44   \n",
       "\n",
       "      [0.3, 0.5, 0.7, 0.9]  [0.1, 0.3, 0.5, 0.7, 0.9]  \n",
       "prog          0.000000e+00               6.000000e-01  \n",
       "impf          1.000000e+00               4.000000e-01  \n",
       "null          3.914406e-44               1.565762e-44  \n",
       "\n",
       "[3 rows x 31 columns]"
      ]
     },
     "execution_count": 370,
     "metadata": {},
     "output_type": "execute_result"
    }
   ],
   "source": [
    "speaker(0.4, 0.6)"
   ]
  },
  {
   "cell_type": "markdown",
   "metadata": {},
   "source": [
    "## Pragmatic listener\n",
    "Returns a distribution over world states and thetas for a given utterance. Difficult to read with the thetas, so we'll just return a distribution over world states."
   ]
  },
  {
   "cell_type": "code",
   "execution_count": 371,
   "metadata": {},
   "outputs": [],
   "source": [
    "def pragmatic_listener():\n",
    "    pr_state = state_prior(pset_states)\n",
    "    pr_theta = thetas_prior(thetas)\n",
    "    S1 = list(map(lambda x: speaker(x[0], x[1]), thetas))\n",
    "    theta_S1 = [S1[i] * pr_theta[i] for i in range(len(S1))]\n",
    "    utterance_dist = np.multiply(sum(theta_S1), pr_state).apply(lambda x: x / np.sum(x), axis=1)\n",
    "    return utterance_dist"
   ]
  },
  {
   "cell_type": "code",
   "execution_count": 372,
   "metadata": {},
   "outputs": [
    {
     "name": "stderr",
     "output_type": "stream",
     "text": [
      "/home/gunnar/.local/lib/python3.6/site-packages/pandas/core/series.py:726: RuntimeWarning: divide by zero encountered in log\n",
      "  result = getattr(ufunc, method)(*inputs, **kwargs)\n"
     ]
    },
    {
     "data": {
      "text/html": [
       "<div>\n",
       "<style scoped>\n",
       "    .dataframe tbody tr th:only-of-type {\n",
       "        vertical-align: middle;\n",
       "    }\n",
       "\n",
       "    .dataframe tbody tr th {\n",
       "        vertical-align: top;\n",
       "    }\n",
       "\n",
       "    .dataframe thead th {\n",
       "        text-align: right;\n",
       "    }\n",
       "</style>\n",
       "<table border=\"1\" class=\"dataframe\">\n",
       "  <thead>\n",
       "    <tr style=\"text-align: right;\">\n",
       "      <th></th>\n",
       "      <th>[0.1]</th>\n",
       "      <th>[0.3]</th>\n",
       "      <th>[0.1, 0.3]</th>\n",
       "      <th>[0.5]</th>\n",
       "      <th>[0.1, 0.5]</th>\n",
       "      <th>[0.3, 0.5]</th>\n",
       "      <th>[0.1, 0.3, 0.5]</th>\n",
       "      <th>[0.7]</th>\n",
       "      <th>[0.1, 0.7]</th>\n",
       "      <th>[0.3, 0.7]</th>\n",
       "      <th>...</th>\n",
       "      <th>[0.3, 0.5, 0.9]</th>\n",
       "      <th>[0.1, 0.3, 0.5, 0.9]</th>\n",
       "      <th>[0.7, 0.9]</th>\n",
       "      <th>[0.1, 0.7, 0.9]</th>\n",
       "      <th>[0.3, 0.7, 0.9]</th>\n",
       "      <th>[0.1, 0.3, 0.7, 0.9]</th>\n",
       "      <th>[0.5, 0.7, 0.9]</th>\n",
       "      <th>[0.1, 0.5, 0.7, 0.9]</th>\n",
       "      <th>[0.3, 0.5, 0.7, 0.9]</th>\n",
       "      <th>[0.1, 0.3, 0.5, 0.7, 0.9]</th>\n",
       "    </tr>\n",
       "  </thead>\n",
       "  <tbody>\n",
       "    <tr>\n",
       "      <th>prog</th>\n",
       "      <td>0.000000</td>\n",
       "      <td>0.000000</td>\n",
       "      <td>0.051567</td>\n",
       "      <td>0.000000</td>\n",
       "      <td>0.058900</td>\n",
       "      <td>0.041846</td>\n",
       "      <td>0.080277</td>\n",
       "      <td>0.000000</td>\n",
       "      <td>0.022911</td>\n",
       "      <td>0.022911</td>\n",
       "      <td>...</td>\n",
       "      <td>0.036126</td>\n",
       "      <td>7.171429e-02</td>\n",
       "      <td>0.000000</td>\n",
       "      <td>0.022911</td>\n",
       "      <td>0.022911</td>\n",
       "      <td>0.062500</td>\n",
       "      <td>0.002223</td>\n",
       "      <td>0.051564</td>\n",
       "      <td>0.036126</td>\n",
       "      <td>7.171429e-02</td>\n",
       "    </tr>\n",
       "    <tr>\n",
       "      <th>impf</th>\n",
       "      <td>0.000000</td>\n",
       "      <td>0.000000</td>\n",
       "      <td>0.004472</td>\n",
       "      <td>0.000000</td>\n",
       "      <td>0.037535</td>\n",
       "      <td>0.040207</td>\n",
       "      <td>0.028563</td>\n",
       "      <td>0.000000</td>\n",
       "      <td>0.053813</td>\n",
       "      <td>0.053813</td>\n",
       "      <td>...</td>\n",
       "      <td>0.053900</td>\n",
       "      <td>3.791037e-02</td>\n",
       "      <td>0.000000</td>\n",
       "      <td>0.053813</td>\n",
       "      <td>0.053813</td>\n",
       "      <td>0.041337</td>\n",
       "      <td>0.020764</td>\n",
       "      <td>0.049196</td>\n",
       "      <td>0.053900</td>\n",
       "      <td>3.791037e-02</td>\n",
       "    </tr>\n",
       "    <tr>\n",
       "      <th>null</th>\n",
       "      <td>0.084848</td>\n",
       "      <td>0.084848</td>\n",
       "      <td>0.045455</td>\n",
       "      <td>0.084848</td>\n",
       "      <td>0.009091</td>\n",
       "      <td>0.018182</td>\n",
       "      <td>0.003030</td>\n",
       "      <td>0.084848</td>\n",
       "      <td>0.018182</td>\n",
       "      <td>0.018182</td>\n",
       "      <td>...</td>\n",
       "      <td>0.009091</td>\n",
       "      <td>2.084498e-45</td>\n",
       "      <td>0.084848</td>\n",
       "      <td>0.018182</td>\n",
       "      <td>0.018182</td>\n",
       "      <td>0.003030</td>\n",
       "      <td>0.063636</td>\n",
       "      <td>0.003030</td>\n",
       "      <td>0.009091</td>\n",
       "      <td>2.084498e-45</td>\n",
       "    </tr>\n",
       "  </tbody>\n",
       "</table>\n",
       "<p>3 rows × 31 columns</p>\n",
       "</div>"
      ],
      "text/plain": [
       "         [0.1]     [0.3]  [0.1, 0.3]     [0.5]  [0.1, 0.5]  [0.3, 0.5]  \\\n",
       "prog  0.000000  0.000000    0.051567  0.000000    0.058900    0.041846   \n",
       "impf  0.000000  0.000000    0.004472  0.000000    0.037535    0.040207   \n",
       "null  0.084848  0.084848    0.045455  0.084848    0.009091    0.018182   \n",
       "\n",
       "      [0.1, 0.3, 0.5]     [0.7]  [0.1, 0.7]  [0.3, 0.7]  ...  [0.3, 0.5, 0.9]  \\\n",
       "prog         0.080277  0.000000    0.022911    0.022911  ...         0.036126   \n",
       "impf         0.028563  0.000000    0.053813    0.053813  ...         0.053900   \n",
       "null         0.003030  0.084848    0.018182    0.018182  ...         0.009091   \n",
       "\n",
       "      [0.1, 0.3, 0.5, 0.9]  [0.7, 0.9]  [0.1, 0.7, 0.9]  [0.3, 0.7, 0.9]  \\\n",
       "prog          7.171429e-02    0.000000         0.022911         0.022911   \n",
       "impf          3.791037e-02    0.000000         0.053813         0.053813   \n",
       "null          2.084498e-45    0.084848         0.018182         0.018182   \n",
       "\n",
       "      [0.1, 0.3, 0.7, 0.9]  [0.5, 0.7, 0.9]  [0.1, 0.5, 0.7, 0.9]  \\\n",
       "prog              0.062500         0.002223              0.051564   \n",
       "impf              0.041337         0.020764              0.049196   \n",
       "null              0.003030         0.063636              0.003030   \n",
       "\n",
       "      [0.3, 0.5, 0.7, 0.9]  [0.1, 0.3, 0.5, 0.7, 0.9]  \n",
       "prog              0.036126               7.171429e-02  \n",
       "impf              0.053900               3.791037e-02  \n",
       "null              0.009091               2.084498e-45  \n",
       "\n",
       "[3 rows x 31 columns]"
      ]
     },
     "execution_count": 372,
     "metadata": {},
     "output_type": "execute_result"
    }
   ],
   "source": [
    "pragmatic_listener()"
   ]
  }
 ],
 "metadata": {
  "kernelspec": {
   "display_name": "Python 3",
   "language": "python",
   "name": "python3"
  },
  "language_info": {
   "codemirror_mode": {
    "name": "ipython",
    "version": 3
   },
   "file_extension": ".py",
   "mimetype": "text/x-python",
   "name": "python",
   "nbconvert_exporter": "python",
   "pygments_lexer": "ipython3",
   "version": "3.6.9"
  }
 },
 "nbformat": 4,
 "nbformat_minor": 4
}
